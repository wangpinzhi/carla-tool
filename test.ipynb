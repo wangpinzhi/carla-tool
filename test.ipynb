{
 "cells": [
  {
   "cell_type": "code",
   "execution_count": 28,
   "metadata": {},
   "outputs": [
    {
     "name": "stdout",
     "output_type": "stream",
     "text": [
      "1046.3651295863092\n",
      "(2560, 2560, 3)\n",
      "(2560, 2560, 3)\n",
      "(2560, 2560, 3)\n",
      "(2560, 2560, 3)\n",
      "(2560, 2560, 3)\n",
      "(2560, 2560, 3)\n"
     ]
    }
   ],
   "source": [
    "import json\n",
    "import numpy as np\n",
    "import cv2\n",
    "\n",
    "raw_data = np.load(f'output/huawei_driving11/cubemap/cm_rgb8_50.npz', allow_pickle=True)\n",
    "front_data = raw_data['front_data']\n",
    "left_data = raw_data['left_data']\n",
    "right_data = raw_data['right_data']\n",
    "back_data = raw_data['back_data']\n",
    "up_data = raw_data['up_data']\n",
    "down_data = raw_data['down_data']\n",
    "print(raw_data['timestamp'])\n",
    "print(front_data.shape)\n",
    "print(left_data.shape)\n",
    "print(right_data.shape)\n",
    "print(up_data.shape)\n",
    "print(down_data.shape)\n",
    "print(back_data.shape)\n",
    "\n",
    "cv2.imshow('front', front_data)\n",
    "cv2.waitKey(0)\n"
   ]
  }
 ],
 "metadata": {
  "kernelspec": {
   "display_name": "Python 3",
   "language": "python",
   "name": "python3"
  },
  "language_info": {
   "codemirror_mode": {
    "name": "ipython",
    "version": 3
   },
   "file_extension": ".py",
   "mimetype": "text/x-python",
   "name": "python",
   "nbconvert_exporter": "python",
   "pygments_lexer": "ipython3",
   "version": "3.8.8rc1"
  },
  "orig_nbformat": 4,
  "vscode": {
   "interpreter": {
    "hash": "d2813c548252c8eab605aaa7b3d0bf981a19f83900702c7515744664a7d89f98"
   }
  }
 },
 "nbformat": 4,
 "nbformat_minor": 2
}
