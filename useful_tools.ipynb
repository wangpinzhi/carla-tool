{
 "cells": [
  {
   "attachments": {},
   "cell_type": "markdown",
   "metadata": {},
   "source": [
    "# Generate Video From Data"
   ]
  },
  {
   "cell_type": "code",
   "execution_count": 6,
   "metadata": {},
   "outputs": [
    {
     "name": "stderr",
     "output_type": "stream",
     "text": [
      "100%|██████████| 50/50 [00:00<00:00, 68.48it/s]\n"
     ]
    }
   ],
   "source": [
    "import numpy as np\n",
    "import cv2\n",
    "import os\n",
    "from tqdm import tqdm\n",
    "\n",
    "# input setting\n",
    "root_path  = r'output\\huawei_gutter\\post_data\\pinhole'\n",
    "frames = 50\n",
    "cam = 'ph_rgb8'\n",
    "\n",
    "# video setting\n",
    "out_video_name = f'huawei_gutter_{cam}.avi'\n",
    "fourcc = cv2.VideoWriter_fourcc(*'XVID')\n",
    "fps = 25 # frames/s\n",
    "out_size = (480, 480)\n",
    "is_color = True\n",
    "\n",
    "video_writer = cv2.VideoWriter(out_video_name, fourcc, fps, out_size, is_color)\n",
    "\n",
    "for i in tqdm(range(frames)):\n",
    "    img = cv2.imread(os.path.join(root_path, f'{cam}_{i}.jpg'))\n",
    "    img = cv2.resize(img, out_size)\n",
    "    video_writer.write(img)\n",
    "\n",
    "video_writer.release()\n",
    "\n"
   ]
  },
  {
   "attachments": {},
   "cell_type": "markdown",
   "metadata": {},
   "source": [
    "# Pinehole Data Visualization"
   ]
  },
  {
   "cell_type": "code",
   "execution_count": null,
   "metadata": {},
   "outputs": [],
   "source": [
    "import cv2\n",
    "import numpy as np\n",
    "import os\n",
    "import cv2\n",
    "\n",
    "root_path = r'output\\pole\\raw_data\\ph_rgb0'\n",
    "\n",
    "if __name__ == '__main__':\n",
    "    for i in range(100):\n",
    "        raw_data = np.load(os.path.join(root_path,f'ph_rgb0_{i}.npz'))['data']\n",
    "        raw_data = cv2.resize(raw_data, (640, 480))\n",
    "        right_data = cv2.resize(right_data, (640, 480)) # output_width,output_height\n",
    "        cv2.imshow('img', raw_data)\n",
    "        cv2.waitKey(100)"
   ]
  },
  {
   "attachments": {},
   "cell_type": "markdown",
   "metadata": {},
   "source": [
    "# Change Weather"
   ]
  },
  {
   "cell_type": "code",
   "execution_count": 28,
   "metadata": {},
   "outputs": [
    {
     "name": "stdout",
     "output_type": "stream",
     "text": [
      "0.0\n"
     ]
    }
   ],
   "source": [
    "import carla\n",
    "\n",
    "client = carla.Client('127.0.0.1', 2000)\n",
    "world = client.get_world()\n",
    "weather = world.get_weather()\n",
    "\n",
    "# weather.cloudiness = 70\n",
    "# weather.wetness = 40\n",
    "# weather.precipitation = 0\n",
    "# weather.precipitation_deposits = 0\n",
    "# weather.fog_falloff = 0.8\n",
    "# weather.fog_density=0\n",
    "# weather.sun_azimuth_angle = -45\n",
    "weather.sun_altitude_angle = 30\n",
    "# weather.dust_storm = 0\n",
    "world.set_weather(weather)\n",
    "\n",
    "print(weather.wetness)\n"
   ]
  }
 ],
 "metadata": {
  "kernelspec": {
   "display_name": "Python 3",
   "language": "python",
   "name": "python3"
  },
  "language_info": {
   "codemirror_mode": {
    "name": "ipython",
    "version": 3
   },
   "file_extension": ".py",
   "mimetype": "text/x-python",
   "name": "python",
   "nbconvert_exporter": "python",
   "pygments_lexer": "ipython3",
   "version": "3.8.8"
  },
  "orig_nbformat": 4
 },
 "nbformat": 4,
 "nbformat_minor": 2
}
