{
 "cells": [
  {
   "attachments": {},
   "cell_type": "markdown",
   "metadata": {},
   "source": [
    "# Generate Video From Data"
   ]
  },
  {
   "cell_type": "code",
   "execution_count": null,
   "metadata": {},
   "outputs": [],
   "source": []
  },
  {
   "cell_type": "code",
   "execution_count": null,
   "metadata": {},
   "outputs": [],
   "source": [
    "import numpy as np\n",
    "import cv2\n",
    "import os\n",
    "from tqdm import tqdm\n",
    "\n",
    "# input setting\n",
    "root_path  = r'output\\huawei_gutter\\post_data\\pinhole'\n",
    "frames = 50\n",
    "cam = 'ph_rgb8'\n",
    "\n",
    "# video setting\n",
    "out_video_name = f'huawei_gutter_{cam}.avi'\n",
    "fourcc = cv2.VideoWriter_fourcc(*'XVID')\n",
    "fps = 25 # frames/s\n",
    "out_size = (480, 480)\n",
    "is_color = True\n",
    "\n",
    "video_writer = cv2.VideoWriter(out_video_name, fourcc, fps, out_size, is_color)\n",
    "\n",
    "for i in tqdm(range(frames)):\n",
    "    img = cv2.imread(os.path.join(root_path, f'{cam}_{i}.jpg'))\n",
    "    img = cv2.resize(img, out_size)\n",
    "    video_writer.write(img)\n",
    "\n",
    "video_writer.release()\n",
    "\n"
   ]
  },
  {
   "attachments": {},
   "cell_type": "markdown",
   "metadata": {},
   "source": [
    "# Pinehole Data Visualization"
   ]
  },
  {
   "cell_type": "code",
   "execution_count": 9,
   "metadata": {},
   "outputs": [],
   "source": [
    "import cv2\n",
    "import numpy as np\n",
    "import os\n",
    "import cv2\n",
    "\n",
    "cam = 'ph_rgbL'\n",
    "scene = 'robot_vaccum_scene3'\n",
    "root_path = rf'output\\{scene}\\raw_data\\{cam}'\n",
    "frames = 1920\n",
    "\n",
    "\n",
    "if __name__ == '__main__':\n",
    "    try:\n",
    "        for i in range(frames):\n",
    "            raw_data = np.load(os.path.join(root_path,f'{cam}_{i}.npz'))['data']\n",
    "            raw_data = cv2.resize(raw_data, (640, 480))\n",
    "            cv2.imshow('img', raw_data)\n",
    "            cv2.waitKey(-1)\n",
    "    finally:\n",
    "        cv2.destroyAllWindows()"
   ]
  },
  {
   "attachments": {},
   "cell_type": "markdown",
   "metadata": {},
   "source": [
    "# Change Weather"
   ]
  },
  {
   "cell_type": "code",
   "execution_count": null,
   "metadata": {},
   "outputs": [],
   "source": [
    "import carla\n",
    "\n",
    "client = carla.Client('127.0.0.1', 2000)\n",
    "world = client.get_world()\n",
    "weather = world.get_weather()\n",
    "\n",
    "weather.cloudiness = 20\n",
    "weather.wetness = 100\n",
    "weather.precipitation = 50\n",
    "# weather.precipitation_deposits = 0\n",
    "# weather.fog_falloff = 0.8\n",
    "# weather.fog_density=0\n",
    "# weather.sun_azimuth_angle = -45\n",
    "# weather.sun_altitude_angle = 30\n",
    "# weather.dust_storm = 0\n",
    "world.set_weather(weather)\n",
    "\n",
    "print(weather.wetness)\n"
   ]
  },
  {
   "attachments": {},
   "cell_type": "markdown",
   "metadata": {},
   "source": [
    "# Check Control File"
   ]
  },
  {
   "cell_type": "code",
   "execution_count": 1,
   "metadata": {},
   "outputs": [
    {
     "name": "stdout",
     "output_type": "stream",
     "text": [
      "Frames: 129\n"
     ]
    }
   ],
   "source": [
    "import numpy as np\n",
    "\n",
    "params_vc = np.load(r'D:\\heterogenenous-data-carla-main\\output\\huawei_fulldepth\\configs\\drive_files\\68_transforms.npy')\n",
    "\n",
    "print('Frames: {}'.format(len(params_vc)))"
   ]
  },
  {
   "attachments": {},
   "cell_type": "markdown",
   "metadata": {},
   "source": [
    "# Vis ERP Depth"
   ]
  },
  {
   "cell_type": "code",
   "execution_count": 8,
   "metadata": {},
   "outputs": [
    {
     "name": "stdout",
     "output_type": "stream",
     "text": [
      "Embedding(4, 32) torch.Size([4, 32])\n"
     ]
    }
   ],
   "source": [
    "import torch.nn as nn\n",
    "import torch\n",
    "\n",
    "a = torch.Tensor(4,32)\n",
    "eb = nn.Embedding(4,32)\n",
    "b = a[:,None,None,:]\n"
   ]
  },
  {
   "attachments": {},
   "cell_type": "markdown",
   "metadata": {},
   "source": [
    "# make spectator ctrl file"
   ]
  },
  {
   "cell_type": "code",
   "execution_count": 1,
   "metadata": {},
   "outputs": [
    {
     "name": "stdout",
     "output_type": "stream",
     "text": [
      "(1000, 3) (1000, 1)\n"
     ]
    }
   ],
   "source": [
    "import numpy as np\n",
    "import re\n",
    "\n",
    "frames = 1000\n",
    "\n",
    "with open(r'temp.txt', 'r') as f:\n",
    "    pattern = r\"Translation: X=([\\d.-]+) Y=([\\d.-]+) Z=([\\d.-]+) Rotation: P=([\\d.-]+) Y=([\\d.-]+) R=([\\d.-]+)\"\n",
    "    lines = f.readlines()\n",
    "    res = []\n",
    "    random_rot = np.random.randn(frames, 3).astype(np.float32)*5\n",
    "    random_pos = np.random.rand(frames, 3).astype(np.float32)\n",
    "    \n",
    "    random_rot[:,0]=0.0\n",
    "    random_rot[:,2]=0.0\n",
    "    \n",
    "    random_pos[:,0]=(random_pos[:,0]*2-1)*0.05\n",
    "    random_pos[:,1]=(random_pos[:,1]*2-1)*0.05\n",
    "    random_pos[:,2]=random_pos[:,2]*0.04\n",
    "    \n",
    "    \n",
    "    random_idx = np.random.randint(0, len(lines), (frames,1))\n",
    "    print(random_rot.shape, random_idx.shape)\n",
    "    for line in lines:\n",
    "        # print(line[0:-1])\n",
    "        matches = re.search(pattern, line)\n",
    "        if matches:\n",
    "            x = matches.group(1)\n",
    "            y = matches.group(2)\n",
    "            z = matches.group(3)\n",
    "            pitch = matches.group(4)\n",
    "            yaw = matches.group(5)\n",
    "            roll = matches.group(6)\n",
    "            item = np.array([x, y, z, pitch, yaw, roll], dtype=np.float32).reshape(1, -1)\n",
    "            res.append(item)\n",
    "    res = np.concatenate(res, axis=0)\n",
    "    np.savez('random1.npz', random_rot=random_rot, random_pos=random_pos, random_idx=random_idx, data=res)"
   ]
  },
  {
   "cell_type": "code",
   "execution_count": 18,
   "metadata": {},
   "outputs": [
    {
     "name": "stdout",
     "output_type": "stream",
     "text": [
      "(1024, 1) int32 int32\n",
      "(1024, 3) float32\n",
      "(8, 6) float32\n"
     ]
    }
   ],
   "source": [
    "import numpy as np\n",
    "\n",
    "bag = np.load('random1.npz')\n",
    "idx = bag['random_idx']\n",
    "rot = bag['random_rot']\n",
    "data = bag['data']\n",
    "print(idx.shape, idx.dtype, idx[0][0].dtype)\n",
    "print(rot.shape, rot.dtype, rot[0].shape)\n",
    "print(data.shape, data.dtype)"
   ]
  }
 ],
 "metadata": {
  "kernelspec": {
   "display_name": "Python 3",
   "language": "python",
   "name": "python3"
  },
  "language_info": {
   "codemirror_mode": {
    "name": "ipython",
    "version": 3
   },
   "file_extension": ".py",
   "mimetype": "text/x-python",
   "name": "python",
   "nbconvert_exporter": "python",
   "pygments_lexer": "ipython3",
   "version": "3.8.8"
  },
  "orig_nbformat": 4,
  "vscode": {
   "interpreter": {
    "hash": "02f0edf5e2e88c01e55b287ecacc024f3019daaddcc98f5a3e8f5f40e68bbc48"
   }
  }
 },
 "nbformat": 4,
 "nbformat_minor": 2
}
