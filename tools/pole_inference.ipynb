{
 "cells": [
  {
   "cell_type": "code",
   "execution_count": 1,
   "metadata": {},
   "outputs": [
    {
     "name": "stderr",
     "output_type": "stream",
     "text": [
      "100%|██████████| 200/200 [00:05<00:00, 36.83it/s]\n"
     ]
    }
   ],
   "source": [
    "import cv2\n",
    "import numpy as np\n",
    "import os\n",
    "from tqdm import tqdm\n",
    "pole_type = 'pole_test'\n",
    "for i in tqdm(range(200)):\n",
    "    left_img = np.load(f'./{pole_type}/raw_data/ph_rgb0/ph_rgb0_{i}.npz')['data']\n",
    "    right_img = np.load(f'./{pole_type}/raw_data/ph_rgb1/ph_rgb1_{i}.npz')['data']\n",
    "    cv2.imwrite(os.path.join(f'{pole_type}/output/left_img',f'left_{i}.png'), left_img)\n",
    "    cv2.imwrite(os.path.join(f'{pole_type}/output/right_img',f'right_{i}.png'), right_img)"
   ]
  }
 ],
 "metadata": {
  "kernelspec": {
   "display_name": "megEngine",
   "language": "python",
   "name": "python3"
  },
  "language_info": {
   "codemirror_mode": {
    "name": "ipython",
    "version": 3
   },
   "file_extension": ".py",
   "mimetype": "text/x-python",
   "name": "python",
   "nbconvert_exporter": "python",
   "pygments_lexer": "ipython3",
   "version": "3.8.8rc1"
  },
  "orig_nbformat": 4,
  "vscode": {
   "interpreter": {
    "hash": "d3767e054e63f70381667ef5b0a565d475ad48ebc15bb8db1e7f796cb00bdfdc"
   }
  }
 },
 "nbformat": 4,
 "nbformat_minor": 2
}
