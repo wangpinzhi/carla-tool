{
 "cells": [
  {
   "cell_type": "code",
   "execution_count": null,
   "metadata": {},
   "outputs": [],
   "source": [
    "# IMPORT\n",
    "import sys,os\n",
    "import cv2\n",
    "import math\n",
    "import numpy as np\n",
    "from tqdm import tqdm\n",
    "import torch\n",
    "import argparse\n",
    "import glob,os,re\n",
    "from PIL import Image\n",
    "\n",
    "# Set Python Run Path\n",
    "parent_path = os.path.abspath(os.path.join(__file__, *(['..'] * 2)))\n",
    "sys.path.insert(0, parent_path)"
   ]
  },
  {
   "cell_type": "code",
   "execution_count": null,
   "metadata": {},
   "outputs": [],
   "source": []
  }
 ],
 "metadata": {
  "kernelspec": {
   "display_name": "Python 3",
   "language": "python",
   "name": "python3"
  },
  "language_info": {
   "name": "python",
   "version": "3.8.8"
  },
  "orig_nbformat": 4,
  "vscode": {
   "interpreter": {
    "hash": "d2813c548252c8eab605aaa7b3d0bf981a19f83900702c7515744664a7d89f98"
   }
  }
 },
 "nbformat": 4,
 "nbformat_minor": 2
}
